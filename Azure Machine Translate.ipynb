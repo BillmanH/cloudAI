{
 "cells": [
  {
   "cell_type": "markdown",
   "metadata": {},
   "source": [
    "# Machine Translate on Azure\n"
   ]
  },
  {
   "cell_type": "code",
   "execution_count": 1,
   "metadata": {},
   "outputs": [],
   "source": [
    "from datetime import timedelta\n",
    "from datetime import datetime\n",
    "from xml.etree import ElementTree\n",
    "\n",
    "import yaml\n",
    "import os\n",
    "import requests\n",
    "\n",
    "#set directory and point to keyfile\n",
    "myKeys = yaml.load(open(os.path.join(os.path.expanduser('~'), 'Documents\\keyfile2.json')))"
   ]
  },
  {
   "cell_type": "code",
   "execution_count": 15,
   "metadata": {},
   "outputs": [],
   "source": [
    "\"\"\"\n",
    "I got this code from here: https://github.com/MicrosoftTranslator/PythonConsole/blob/master/MTPythonSampleCode/auth.py\n",
    "There was an error with the bytestring so I fixed that here\n",
    "Code example for getting a Microsoft Translator access token from the Azure Platform.\n",
    "Visit http://docs.microsofttranslator.com/oauth-token.html to view the API reference\n",
    "for Microsoft Azure Cognitive Services authentication service.\n",
    "\"\"\"\n",
    "\n",
    "from datetime import timedelta\n",
    "from datetime import datetime\n",
    "\n",
    "import requests\n",
    "\n",
    "class AzureAuthClient(object):\n",
    "    \"\"\"\n",
    "    Provides a client for obtaining an OAuth token from the authentication service\n",
    "    for Microsoft Translator in Azure Cognitive Services.\n",
    "    \"\"\"\n",
    "\n",
    "    def __init__(self, client_secret):\n",
    "        \"\"\"\n",
    "        :param client_secret: Client secret.\n",
    "        \"\"\"\n",
    "\n",
    "        self.client_secret = client_secret\n",
    "        # token field is used to store the last token obtained from the token service\n",
    "        # the cached token is re-used until the time specified in reuse_token_until.\n",
    "        self.token = None\n",
    "        self.reuse_token_until = None\n",
    "\n",
    "    def get_access_token(self):\n",
    "        '''\n",
    "        Returns an access token for the specified subscription.\n",
    "        This method uses a cache to limit the number of requests to the token service.\n",
    "        A fresh token can be re-used during its lifetime of 10 minutes. After a successful\n",
    "        request to the token service, this method caches the access token. Subsequent\n",
    "        invocations of the method return the cached token for the next 5 minutes. After\n",
    "        5 minutes, a new token is fetched from the token service and the cache is updated.\n",
    "        '''\n",
    "\n",
    "        if (self.token is None) or (datetime.utcnow() > self.reuse_token_until):\n",
    "\n",
    "            token_service_url = 'https://api.cognitive.microsoft.com/sts/v1.0/issueToken'\n",
    "\n",
    "            request_headers = {'Ocp-Apim-Subscription-Key': self.client_secret}\n",
    "\n",
    "            response = requests.post(token_service_url, headers=request_headers)\n",
    "            response.raise_for_status()\n",
    "\n",
    "            self.token = response.content\n",
    "            self.reuse_token_until = datetime.utcnow() + timedelta(minutes=5)\n",
    "\n",
    "        return self.token.decode('utf-8')"
   ]
  },
  {
   "cell_type": "code",
   "execution_count": 16,
   "metadata": {},
   "outputs": [],
   "source": [
    "#login\n",
    "client_secret = myKeys['BabelFish']['key1']\n",
    "auth_client = AzureAuthClient(client_secret)\n",
    "bearer_token = 'Bearer ' + auth_client.get_access_token()\n",
    "toLangCode = \"en\""
   ]
  },
  {
   "cell_type": "code",
   "execution_count": 4,
   "metadata": {},
   "outputs": [],
   "source": [
    "textToTranslate = \"es un período de guerra civil los barcos rebeldes que golpean desde una base oculta han ganado su primera victoria contra el malvado imperio galáctico\"\n",
    "#textToTranslate = \"gestalt\""
   ]
  },
  {
   "cell_type": "code",
   "execution_count": 5,
   "metadata": {},
   "outputs": [],
   "source": [
    "#call to translate:\n",
    "headers = {\"Authorization \": bearer_token}\n",
    "translateUrl = \"http://api.microsofttranslator.com/v2/Http.svc/Translate?text={}&to={}\".format(textToTranslate, toLangCode)"
   ]
  },
  {
   "cell_type": "code",
   "execution_count": 6,
   "metadata": {},
   "outputs": [],
   "source": [
    "translationData = requests.get(translateUrl, headers=headers)"
   ]
  },
  {
   "cell_type": "code",
   "execution_count": 7,
   "metadata": {},
   "outputs": [],
   "source": [
    "translation = ElementTree.fromstring(translationData.text.encode('utf-8'))"
   ]
  },
  {
   "cell_type": "code",
   "execution_count": 8,
   "metadata": {},
   "outputs": [
    {
     "data": {
      "text/plain": [
       "'is a period of civil war vessels rebels hitting from a hidden base have earned their first victory against the evil Galactic Empire'"
      ]
     },
     "execution_count": 8,
     "metadata": {},
     "output_type": "execute_result"
    }
   ],
   "source": [
    "translation.text"
   ]
  },
  {
   "cell_type": "code",
   "execution_count": 9,
   "metadata": {},
   "outputs": [
    {
     "data": {
      "text/plain": [
       "<Response [200]>"
      ]
     },
     "execution_count": 9,
     "metadata": {},
     "output_type": "execute_result"
    }
   ],
   "source": [
    "translationData\n"
   ]
  },
  {
   "cell_type": "code",
   "execution_count": 10,
   "metadata": {},
   "outputs": [
    {
     "data": {
      "text/plain": [
       "'http://api.microsofttranslator.com/v2/Http.svc/Translate?text=es un período de guerra civil los barcos rebeldes que golpean desde una base oculta han ganado su primera victoria contra el malvado imperio galáctico&to=en'"
      ]
     },
     "execution_count": 10,
     "metadata": {},
     "output_type": "execute_result"
    }
   ],
   "source": [
    "translateUrl"
   ]
  },
  {
   "cell_type": "code",
   "execution_count": 11,
   "metadata": {},
   "outputs": [
    {
     "data": {
      "text/plain": [
       "'OK'"
      ]
     },
     "execution_count": 11,
     "metadata": {},
     "output_type": "execute_result"
    }
   ],
   "source": [
    "translationData.reason"
   ]
  },
  {
   "cell_type": "code",
   "execution_count": 12,
   "metadata": {},
   "outputs": [
    {
     "data": {
      "text/plain": [
       "{'Content-Length': '208', 'Content-Type': 'application/xml; charset=utf-8', 'X-MS-Trans-Info': '1035.V2_Rest.Translate.35FC33D0', 'Date': 'Wed, 20 Dec 2017 20:47:02 GMT'}"
      ]
     },
     "execution_count": 12,
     "metadata": {},
     "output_type": "execute_result"
    }
   ],
   "source": [
    "translationData.headers"
   ]
  }
 ],
 "metadata": {
  "kernelspec": {
   "display_name": "Python 3",
   "language": "python",
   "name": "python3"
  },
  "language_info": {
   "codemirror_mode": {
    "name": "ipython",
    "version": 3
   },
   "file_extension": ".py",
   "mimetype": "text/x-python",
   "name": "python",
   "nbconvert_exporter": "python",
   "pygments_lexer": "ipython3",
   "version": "3.6.3"
  }
 },
 "nbformat": 4,
 "nbformat_minor": 2
}
