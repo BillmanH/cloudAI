{
 "cells": [
  {
   "cell_type": "code",
   "execution_count": 1,
   "metadata": {
    "collapsed": false
   },
   "outputs": [],
   "source": [
    "import cv2\n",
    "import numpy as np\n",
    "import boto\n",
    "import yaml"
   ]
  },
  {
   "cell_type": "code",
   "execution_count": 16,
   "metadata": {
    "collapsed": false
   },
   "outputs": [],
   "source": [
    "#send the frame to an S3 instance\n",
    "from boto.s3.connection import S3Connection\n",
    "\n",
    "myKeys = yaml.load(open('Documents/libraryKeys.json', 'r'))\n",
    "AWSAccessKeyId=myKeys['key']\n",
    "AWSSecretKey=myKeys['secret']\n",
    "conn = S3Connection(AWSAccessKeyId, AWSSecretKey)"
   ]
  },
  {
   "cell_type": "code",
   "execution_count": 28,
   "metadata": {
    "collapsed": false
   },
   "outputs": [],
   "source": [
    "# Capture one frame and save it to file\n",
    "def capture():\n",
    "    cap = cv2.VideoCapture(0)\n",
    "    ret, frame = cap.read()\n",
    "    cv2.imwrite(\"Documents/frame.jpg\", frame)\n",
    "    cap.release()"
   ]
  },
  {
   "cell_type": "code",
   "execution_count": 29,
   "metadata": {
    "collapsed": false
   },
   "outputs": [],
   "source": [
    "#Upload the file to bucket\n",
    "def send():\n",
    "    mybucket = conn.get_bucket('capitolhilltoollibrary',validate=False)\n",
    "    myKey = boto.s3.key.Key(mybucket)\n",
    "    myKey.key = \"whats_happening_at_the_library.jpg\"\n",
    "    myKey.set_contents_from_file(open('Documents/frame.jpg', 'rb'))\n",
    "    myKey.set_metadata('upload time',time.strftime(\"%m/%d/%Y %H:%M\"))\n",
    "    #change the file to be public\n",
    "    myKey.set_acl(\"public-read\")\n",
    "    #add date\n",
    "    myKey.set_metadata('upload time',time.strftime(\"%m/%d/%Y %H:%M\"))"
   ]
  },
  {
   "cell_type": "code",
   "execution_count": 33,
   "metadata": {
    "collapsed": true
   },
   "outputs": [],
   "source": [
    "capture()\n",
    "send()"
   ]
  },
  {
   "cell_type": "code",
   "execution_count": 32,
   "metadata": {
    "collapsed": false
   },
   "outputs": [
    {
     "name": "stdout",
     "output_type": "stream",
     "text": [
      "09/24/2017 18:03\n",
      "09/24/2017 18:03\n",
      "09/24/2017 18:03\n",
      "09/24/2017 18:03\n",
      "09/24/2017 18:03\n",
      "09/24/2017 18:04\n",
      "09/24/2017 18:04\n",
      "09/24/2017 18:04\n",
      "09/24/2017 18:04\n",
      "09/24/2017 18:04\n",
      "09/24/2017 18:04\n",
      "09/24/2017 18:04\n",
      "09/24/2017 18:04\n",
      "09/24/2017 18:04\n",
      "09/24/2017 18:04\n",
      "09/24/2017 18:04\n",
      "09/24/2017 18:04\n",
      "09/24/2017 18:05\n",
      "09/24/2017 18:05\n",
      "09/24/2017 18:05\n",
      "09/24/2017 18:05\n",
      "09/24/2017 18:05\n",
      "09/24/2017 18:05\n",
      "09/24/2017 18:05\n",
      "09/24/2017 18:05\n"
     ]
    },
    {
     "ename": "KeyboardInterrupt",
     "evalue": "",
     "output_type": "error",
     "traceback": [
      "\u001b[0;31m---------------------------------------------------------------------------\u001b[0m",
      "\u001b[0;31mKeyboardInterrupt\u001b[0m                         Traceback (most recent call last)",
      "\u001b[0;32m<ipython-input-32-b4ed65fcd33a>\u001b[0m in \u001b[0;36m<module>\u001b[0;34m()\u001b[0m\n\u001b[1;32m      3\u001b[0m     \u001b[0msend\u001b[0m\u001b[0;34m(\u001b[0m\u001b[0;34m)\u001b[0m\u001b[0;34m\u001b[0m\u001b[0m\n\u001b[1;32m      4\u001b[0m     \u001b[0mprint\u001b[0m\u001b[0;34m(\u001b[0m\u001b[0mtime\u001b[0m\u001b[0;34m.\u001b[0m\u001b[0mstrftime\u001b[0m\u001b[0;34m(\u001b[0m\u001b[0;34m\"%m/%d/%Y %H:%M\"\u001b[0m\u001b[0;34m)\u001b[0m\u001b[0;34m)\u001b[0m\u001b[0;34m\u001b[0m\u001b[0m\n\u001b[0;32m----> 5\u001b[0;31m     \u001b[0mtime\u001b[0m\u001b[0;34m.\u001b[0m\u001b[0msleep\u001b[0m\u001b[0;34m(\u001b[0m\u001b[0;36m5\u001b[0m\u001b[0;34m)\u001b[0m\u001b[0;34m\u001b[0m\u001b[0m\n\u001b[0m",
      "\u001b[0;31mKeyboardInterrupt\u001b[0m: "
     ]
    }
   ],
   "source": [
    "while True:\n",
    "    capture()\n",
    "    send()\n",
    "    print(time.strftime(\"%m/%d/%Y %H:%M\"))\n",
    "    time.sleep(5)   "
   ]
  },
  {
   "cell_type": "code",
   "execution_count": null,
   "metadata": {
    "collapsed": true
   },
   "outputs": [],
   "source": []
  }
 ],
 "metadata": {
  "kernelspec": {
   "display_name": "Python 3",
   "language": "python",
   "name": "python3"
  },
  "language_info": {
   "codemirror_mode": {
    "name": "ipython",
    "version": 3
   },
   "file_extension": ".py",
   "mimetype": "text/x-python",
   "name": "python",
   "nbconvert_exporter": "python",
   "pygments_lexer": "ipython3",
   "version": "3.6.0"
  }
 },
 "nbformat": 4,
 "nbformat_minor": 2
}
